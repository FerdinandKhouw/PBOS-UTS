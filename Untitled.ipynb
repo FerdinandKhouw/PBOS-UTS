{
 "cells": [
  {
   "cell_type": "code",
   "execution_count": 31,
   "id": "193f0312",
   "metadata": {},
   "outputs": [
    {
     "name": "stdout",
     "output_type": "stream",
     "text": [
      "-----------------------Curiculum Vitae-----------------------\n",
      "Nama                  : Ferdinand\n",
      "Pendidikan Formal     : SMA Gembala Baik\n",
      "Pendidikan Non-Formal : (tidak ada)\n",
      "Organisasi            : OSIS selama 2 tahun\n",
      "Prestasi              : Memenangkan juara ke-2 lomba menghitung cepat Oscar Olympic tahun 2020\n"
     ]
    }
   ],
   "source": [
    "nama = \"Ferdinand\"\n",
    "pendf = \"SMA Gembala Baik\"\n",
    "pendnf = \"(tidak ada)\"\n",
    "orga = \"OSIS selama 2 tahun\"\n",
    "pres = \"Memenangkan juara ke-2 lomba menghitung cepat Oscar Olympic tahun 2020\"\n",
    "\n",
    "print(\"-----------------------Curiculum Vitae-----------------------\")\n",
    "print(\"Nama                  :\", nama)\n",
    "print(\"Pendidikan Formal     :\", pendf)\n",
    "print(\"Pendidikan Non-Formal :\", pendnf)\n",
    "print(\"Organisasi            :\", orga)\n",
    "print(\"Prestasi              :\", pres)"
   ]
  },
  {
   "cell_type": "code",
   "execution_count": 33,
   "id": "7e0a1c06",
   "metadata": {},
   "outputs": [
    {
     "name": "stdout",
     "output_type": "stream",
     "text": [
      "-----Program Menghitung Luas Persegi Panjang-----\n",
      "Panjang : 2.1\n",
      "Lebar   : 4.0\n",
      "Luas Persegi Panjang :  8.4\n"
     ]
    }
   ],
   "source": [
    "print(\"-----Program Menghitung Luas Persegi Panjang-----\")\n",
    "pjg = float(input(\"Panjang : \"))\n",
    "lbr = float(input(\"Lebar   : \"))\n",
    "luas = pjg * lbr\n",
    "print(\"Luas Persegi Panjang : \", luas)"
   ]
  },
  {
   "cell_type": "code",
   "execution_count": 49,
   "id": "5f19e90a",
   "metadata": {},
   "outputs": [
    {
     "name": "stdout",
     "output_type": "stream",
     "text": [
      "----------Program Mengkonversi Suhu----------\n",
      "Celcius = 600\n",
      "\n",
      "\n",
      "Hasil Konversi jika suhunya adalah  600.0 °C\n",
      "Reamur    =  480.0 °R\n",
      "Farenheit =  1112.0 °F\n",
      "Kelvin    =  873.0 K\n"
     ]
    }
   ],
   "source": [
    "print(\"----------Program Mengkonversi Suhu----------\")\n",
    "celcius = float(input(\"Celcius = \"))\n",
    "nr = (celcius * 4 / 5) \n",
    "nf = (celcius * 9 / 5) + 32\n",
    "nk = celcius + 273\n",
    "\n",
    "print(\"\\n\")\n",
    "print(\"Hasil Konversi jika suhunya adalah \", celcius, \"°C\")\n",
    "print(\"Reamur    = \", nr, \"°R\")\n",
    "print(\"Farenheit = \", nf, \"°F\")\n",
    "print(\"Kelvin    = \", nk, \"K\")"
   ]
  },
  {
   "cell_type": "code",
   "execution_count": 48,
   "id": "d0c0c9fe",
   "metadata": {},
   "outputs": [
    {
     "name": "stdout",
     "output_type": "stream",
     "text": [
      "---------------Program Mengkonversi Waktu---------------\n",
      "Detik = 4627423\n",
      "\n",
      "\n",
      "Jika mengkonversikan 4627423 detik, maka akan mendapatkan hasil sebagai berikut:\n",
      "Menit =  43 menit\n",
      "Jam   =  13 jam\n",
      "Hari  =  53 hari\n"
     ]
    }
   ],
   "source": [
    "print(\"---------------Program Mengkonversi Waktu---------------\")\n",
    "detik = int(input(\"Detik = \"))\n",
    "x = 86400\n",
    "\n",
    "menit = ((detik % x) % 3600) % 60\n",
    "jam = (detik % x) // 3600\n",
    "hari = detik // x\n",
    "\n",
    "print(\"\\n\")\n",
    "print(\"Jika mengkonversikan\", detik, \"detik, maka akan mendapatkan hasil sebagai berikut:\")\n",
    "print(\"Menit = \", menit, \"menit\")\n",
    "print(\"Jam   = \", jam, \"jam\")\n",
    "print(\"Hari  = \", hari, \"hari\")"
   ]
  },
  {
   "cell_type": "code",
   "execution_count": 63,
   "id": "24b3f430",
   "metadata": {
    "scrolled": true
   },
   "outputs": [
    {
     "name": "stdout",
     "output_type": "stream",
     "text": [
      "------------Program Menghitung Luas Lingkaran------------\n",
      "Masukkan jari-jari lingkaran : 7\n",
      "\n",
      "\n",
      "Luas dari Lingkaran tersebut adalah:\n",
      "Luas =  153.86 m\n"
     ]
    }
   ],
   "source": [
    "print(\"------------Program Menghitung Luas Lingkaran------------\")\n",
    "phi = 3.14\n",
    "r = float(input(\"Masukkan jari-jari lingkaran : \"))\n",
    "\n",
    "luas = phi * r * r\n",
    "\n",
    "print(\"\\n\")\n",
    "print(\"Luas dari Lingkaran tersebut adalah:\")\n",
    "print(\"Luas = \", luas,)"
   ]
  }
 ],
 "metadata": {
  "kernelspec": {
   "display_name": "Python 3",
   "language": "python",
   "name": "python3"
  },
  "language_info": {
   "codemirror_mode": {
    "name": "ipython",
    "version": 3
   },
   "file_extension": ".py",
   "mimetype": "text/x-python",
   "name": "python",
   "nbconvert_exporter": "python",
   "pygments_lexer": "ipython3",
   "version": "3.8.8"
  }
 },
 "nbformat": 4,
 "nbformat_minor": 5
}
